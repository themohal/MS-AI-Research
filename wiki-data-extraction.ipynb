{
 "cells": [
  {
   "cell_type": "code",
   "execution_count": 1,
   "id": "534187b3",
   "metadata": {
    "_cell_guid": "b1076dfc-b9ad-4769-8c92-a6c4dae69d19",
    "_uuid": "8f2839f25d086af736a60e9eeb907d3b93b6e0e5",
    "execution": {
     "iopub.execute_input": "2023-03-17T22:55:37.571368Z",
     "iopub.status.busy": "2023-03-17T22:55:37.570935Z",
     "iopub.status.idle": "2023-03-17T22:55:37.589121Z",
     "shell.execute_reply": "2023-03-17T22:55:37.587372Z"
    },
    "papermill": {
     "duration": 0.03092,
     "end_time": "2023-03-17T22:55:37.592681",
     "exception": false,
     "start_time": "2023-03-17T22:55:37.561761",
     "status": "completed"
    },
    "tags": []
   },
   "outputs": [
    {
     "name": "stdout",
     "output_type": "stream",
     "text": [
      "/kaggle/input/skrwiki-20230301-pages/skrwiki-20230301-pages-articles.xml.bz2\n"
     ]
    }
   ],
   "source": [
    "# This Python 3 environment comes with many helpful analytics libraries installed\n",
    "# It is defined by the kaggle/python Docker image: https://github.com/kaggle/docker-python\n",
    "# For example, here's several helpful packages to load\n",
    "\n",
    "import numpy as np # linear algebra\n",
    "import pandas as pd # data processing, CSV file I/O (e.g. pd.read_csv)\n",
    "\n",
    "# Input data files are available in the read-only \"../input/\" directory\n",
    "# For example, running this (by clicking run or pressing Shift+Enter) will list all files under the input directory\n",
    "\n",
    "import os\n",
    "for dirname, _, filenames in os.walk('/kaggle/input'):\n",
    "    for filename in filenames:\n",
    "        print(os.path.join(dirname, filename))\n",
    "\n",
    "# You can write up to 20GB to the current directory (/kaggle/working/) that gets preserved as output when you create a version using \"Save & Run All\" \n",
    "# You can also write temporary files to /kaggle/temp/, but they won't be saved outside of the current session"
   ]
  },
  {
   "cell_type": "code",
   "execution_count": 2,
   "id": "49baf15b",
   "metadata": {
    "execution": {
     "iopub.execute_input": "2023-03-17T22:55:37.606660Z",
     "iopub.status.busy": "2023-03-17T22:55:37.605647Z",
     "iopub.status.idle": "2023-03-17T22:55:50.389643Z",
     "shell.execute_reply": "2023-03-17T22:55:50.388420Z"
    },
    "papermill": {
     "duration": 12.793888,
     "end_time": "2023-03-17T22:55:50.392711",
     "exception": false,
     "start_time": "2023-03-17T22:55:37.598823",
     "status": "completed"
    },
    "tags": []
   },
   "outputs": [
    {
     "name": "stdout",
     "output_type": "stream",
     "text": [
      "Collecting wikiextractor\r\n",
      "  Downloading wikiextractor-3.0.6-py3-none-any.whl (46 kB)\r\n",
      "\u001b[2K     \u001b[90m━━━━━━━━━━━━━━━━━━━━━━━━━━━━━━━━━━━━━━━━\u001b[0m \u001b[32m46.4/46.4 kB\u001b[0m \u001b[31m2.5 MB/s\u001b[0m eta \u001b[36m0:00:00\u001b[0m\r\n",
      "\u001b[?25hInstalling collected packages: wikiextractor\r\n",
      "Successfully installed wikiextractor-3.0.6\r\n",
      "\u001b[33mWARNING: Running pip as the 'root' user can result in broken permissions and conflicting behaviour with the system package manager. It is recommended to use a virtual environment instead: https://pip.pypa.io/warnings/venv\u001b[0m\u001b[33m\r\n",
      "\u001b[0m"
     ]
    }
   ],
   "source": [
    "!pip install wikiextractor"
   ]
  },
  {
   "cell_type": "code",
   "execution_count": 3,
   "id": "404b3102",
   "metadata": {
    "execution": {
     "iopub.execute_input": "2023-03-17T22:55:50.406584Z",
     "iopub.status.busy": "2023-03-17T22:55:50.406133Z",
     "iopub.status.idle": "2023-03-17T22:55:50.415353Z",
     "shell.execute_reply": "2023-03-17T22:55:50.414048Z"
    },
    "papermill": {
     "duration": 0.019148,
     "end_time": "2023-03-17T22:55:50.418097",
     "exception": false,
     "start_time": "2023-03-17T22:55:50.398949",
     "status": "completed"
    },
    "tags": []
   },
   "outputs": [],
   "source": [
    "import wikiextractor"
   ]
  },
  {
   "cell_type": "code",
   "execution_count": 4,
   "id": "74083f8f",
   "metadata": {
    "execution": {
     "iopub.execute_input": "2023-03-17T22:55:50.430818Z",
     "iopub.status.busy": "2023-03-17T22:55:50.430363Z",
     "iopub.status.idle": "2023-03-17T22:55:58.789357Z",
     "shell.execute_reply": "2023-03-17T22:55:58.786760Z"
    },
    "papermill": {
     "duration": 8.369474,
     "end_time": "2023-03-17T22:55:58.792953",
     "exception": false,
     "start_time": "2023-03-17T22:55:50.423479",
     "status": "completed"
    },
    "tags": []
   },
   "outputs": [],
   "source": [
    "!python -m wikiextractor.WikiExtractor /kaggle/input/skrwiki-20230301-pages/skrwiki-20230301-pages-articles.xml.bz2 -o /kaggle/working/"
   ]
  },
  {
   "cell_type": "code",
   "execution_count": 5,
   "id": "f2d6b7ed",
   "metadata": {
    "execution": {
     "iopub.execute_input": "2023-03-17T22:55:58.807081Z",
     "iopub.status.busy": "2023-03-17T22:55:58.806050Z",
     "iopub.status.idle": "2023-03-17T22:55:59.916858Z",
     "shell.execute_reply": "2023-03-17T22:55:59.914425Z"
    },
    "papermill": {
     "duration": 1.121945,
     "end_time": "2023-03-17T22:55:59.920536",
     "exception": false,
     "start_time": "2023-03-17T22:55:58.798591",
     "status": "completed"
    },
    "tags": []
   },
   "outputs": [],
   "source": [
    "rm -r \"/kaggle/working/AA\""
   ]
  },
  {
   "cell_type": "code",
   "execution_count": 6,
   "id": "052ccee1",
   "metadata": {
    "execution": {
     "iopub.execute_input": "2023-03-17T22:55:59.935186Z",
     "iopub.status.busy": "2023-03-17T22:55:59.934620Z",
     "iopub.status.idle": "2023-03-17T22:56:00.016729Z",
     "shell.execute_reply": "2023-03-17T22:56:00.014003Z"
    },
    "papermill": {
     "duration": 0.094248,
     "end_time": "2023-03-17T22:56:00.020356",
     "exception": true,
     "start_time": "2023-03-17T22:55:59.926108",
     "status": "failed"
    },
    "tags": []
   },
   "outputs": [
    {
     "ename": "FileNotFoundError",
     "evalue": "[Errno 2] No such file or directory: '/kaggle/working/AA'",
     "output_type": "error",
     "traceback": [
      "\u001b[0;31m---------------------------------------------------------------------------\u001b[0m",
      "\u001b[0;31mFileNotFoundError\u001b[0m                         Traceback (most recent call last)",
      "\u001b[0;32m/tmp/ipykernel_19/1348389529.py\u001b[0m in \u001b[0;36m<module>\u001b[0;34m\u001b[0m\n\u001b[1;32m      5\u001b[0m \u001b[0;34m\u001b[0m\u001b[0m\n\u001b[1;32m      6\u001b[0m \u001b[0;31m# Iterate directory\u001b[0m\u001b[0;34m\u001b[0m\u001b[0;34m\u001b[0m\u001b[0;34m\u001b[0m\u001b[0m\n\u001b[0;32m----> 7\u001b[0;31m \u001b[0;32mfor\u001b[0m \u001b[0mpath\u001b[0m \u001b[0;32min\u001b[0m \u001b[0mos\u001b[0m\u001b[0;34m.\u001b[0m\u001b[0mlistdir\u001b[0m\u001b[0;34m(\u001b[0m\u001b[0mdir_path\u001b[0m\u001b[0;34m)\u001b[0m\u001b[0;34m:\u001b[0m\u001b[0;34m\u001b[0m\u001b[0;34m\u001b[0m\u001b[0m\n\u001b[0m\u001b[1;32m      8\u001b[0m     \u001b[0;31m# check if current path is a file\u001b[0m\u001b[0;34m\u001b[0m\u001b[0;34m\u001b[0m\u001b[0;34m\u001b[0m\u001b[0m\n\u001b[1;32m      9\u001b[0m     \u001b[0;32mif\u001b[0m \u001b[0mos\u001b[0m\u001b[0;34m.\u001b[0m\u001b[0mpath\u001b[0m\u001b[0;34m.\u001b[0m\u001b[0misfile\u001b[0m\u001b[0;34m(\u001b[0m\u001b[0mos\u001b[0m\u001b[0;34m.\u001b[0m\u001b[0mpath\u001b[0m\u001b[0;34m.\u001b[0m\u001b[0mjoin\u001b[0m\u001b[0;34m(\u001b[0m\u001b[0mdir_path\u001b[0m\u001b[0;34m,\u001b[0m \u001b[0mpath\u001b[0m\u001b[0;34m)\u001b[0m\u001b[0;34m)\u001b[0m\u001b[0;34m:\u001b[0m\u001b[0;34m\u001b[0m\u001b[0;34m\u001b[0m\u001b[0m\n",
      "\u001b[0;31mFileNotFoundError\u001b[0m: [Errno 2] No such file or directory: '/kaggle/working/AA'"
     ]
    }
   ],
   "source": [
    "import os\n",
    "dir_path = \"/kaggle/working/AA\"\n",
    "# list to store files\n",
    "res = []\n",
    "\n",
    "# Iterate directory\n",
    "for path in os.listdir(dir_path):\n",
    "    # check if current path is a file\n",
    "    if os.path.isfile(os.path.join(dir_path, path)):\n",
    "        res.append(dir_path+\"/\"+path)\n",
    "print(res)"
   ]
  },
  {
   "cell_type": "code",
   "execution_count": null,
   "id": "eafcba60",
   "metadata": {
    "execution": {
     "iopub.execute_input": "2023-03-17T22:51:46.546501Z",
     "iopub.status.busy": "2023-03-17T22:51:46.545925Z",
     "iopub.status.idle": "2023-03-17T22:51:46.740231Z",
     "shell.execute_reply": "2023-03-17T22:51:46.739360Z",
     "shell.execute_reply.started": "2023-03-17T22:51:46.546465Z"
    },
    "papermill": {
     "duration": null,
     "end_time": null,
     "exception": null,
     "start_time": null,
     "status": "pending"
    },
    "tags": []
   },
   "outputs": [],
   "source": [
    "from bs4 import BeautifulSoup\n",
    "all = []\n",
    "for i in res:\n",
    "  with open(i, 'r') as f:\n",
    "    contents = f.readlines()\n",
    "    for j,k in enumerate(contents):\n",
    "      if k.startswith(\"<doc id=\"):\n",
    "        contents[j] =\"\"\n",
    "      elif k.startswith(\"</doc>\"):\n",
    "        contents[j] = \"\"\n",
    "      elif k.startswith(\"\\n\"):\n",
    "        contents[j] = \"\"\n",
    "    for l,m in enumerate(contents):\n",
    "      if m==\"\":\n",
    "        del contents[l]\n",
    "  all.append(contents)        "
   ]
  },
  {
   "cell_type": "code",
   "execution_count": null,
   "id": "3ca247f0",
   "metadata": {
    "execution": {
     "iopub.execute_input": "2023-03-17T22:51:46.742163Z",
     "iopub.status.busy": "2023-03-17T22:51:46.741816Z",
     "iopub.status.idle": "2023-03-17T22:51:46.749160Z",
     "shell.execute_reply": "2023-03-17T22:51:46.748138Z",
     "shell.execute_reply.started": "2023-03-17T22:51:46.742121Z"
    },
    "papermill": {
     "duration": null,
     "end_time": null,
     "exception": null,
     "start_time": null,
     "status": "pending"
    },
    "tags": []
   },
   "outputs": [],
   "source": [
    "len(all)"
   ]
  },
  {
   "cell_type": "code",
   "execution_count": null,
   "id": "940b05bd",
   "metadata": {
    "execution": {
     "iopub.execute_input": "2023-03-17T22:51:47.337477Z",
     "iopub.status.busy": "2023-03-17T22:51:47.337083Z",
     "iopub.status.idle": "2023-03-17T22:51:47.354711Z",
     "shell.execute_reply": "2023-03-17T22:51:47.353619Z",
     "shell.execute_reply.started": "2023-03-17T22:51:47.337444Z"
    },
    "papermill": {
     "duration": null,
     "end_time": null,
     "exception": null,
     "start_time": null,
     "status": "pending"
    },
    "tags": []
   },
   "outputs": [],
   "source": [
    "comb = [\"\".join(i) for i in all]"
   ]
  },
  {
   "cell_type": "code",
   "execution_count": null,
   "id": "dedf0da7",
   "metadata": {
    "execution": {
     "iopub.execute_input": "2023-03-17T22:51:49.150277Z",
     "iopub.status.busy": "2023-03-17T22:51:49.149916Z",
     "iopub.status.idle": "2023-03-17T22:51:49.156446Z",
     "shell.execute_reply": "2023-03-17T22:51:49.154780Z",
     "shell.execute_reply.started": "2023-03-17T22:51:49.150242Z"
    },
    "papermill": {
     "duration": null,
     "end_time": null,
     "exception": null,
     "start_time": null,
     "status": "pending"
    },
    "tags": []
   },
   "outputs": [],
   "source": [
    "import pandas as pd\n",
    "data = {\"Saraiki\":comb}\n",
    "df = pd.DataFrame(data)"
   ]
  },
  {
   "cell_type": "code",
   "execution_count": null,
   "id": "2e6a2574",
   "metadata": {
    "execution": {
     "iopub.execute_input": "2023-03-17T22:51:49.853220Z",
     "iopub.status.busy": "2023-03-17T22:51:49.852832Z",
     "iopub.status.idle": "2023-03-17T22:51:49.883569Z",
     "shell.execute_reply": "2023-03-17T22:51:49.882158Z",
     "shell.execute_reply.started": "2023-03-17T22:51:49.853187Z"
    },
    "papermill": {
     "duration": null,
     "end_time": null,
     "exception": null,
     "start_time": null,
     "status": "pending"
    },
    "tags": []
   },
   "outputs": [],
   "source": [
    "df.head()"
   ]
  },
  {
   "cell_type": "code",
   "execution_count": null,
   "id": "6d8f53c5",
   "metadata": {
    "execution": {
     "iopub.execute_input": "2023-03-17T22:51:50.880604Z",
     "iopub.status.busy": "2023-03-17T22:51:50.879679Z",
     "iopub.status.idle": "2023-03-17T22:51:50.888166Z",
     "shell.execute_reply": "2023-03-17T22:51:50.886931Z",
     "shell.execute_reply.started": "2023-03-17T22:51:50.880563Z"
    },
    "papermill": {
     "duration": null,
     "end_time": null,
     "exception": null,
     "start_time": null,
     "status": "pending"
    },
    "tags": []
   },
   "outputs": [],
   "source": [
    "len(df)"
   ]
  },
  {
   "cell_type": "code",
   "execution_count": null,
   "id": "62807ac9",
   "metadata": {
    "execution": {
     "iopub.execute_input": "2023-03-17T22:52:13.015393Z",
     "iopub.status.busy": "2023-03-17T22:52:13.014208Z",
     "iopub.status.idle": "2023-03-17T22:52:13.228477Z",
     "shell.execute_reply": "2023-03-17T22:52:13.227706Z",
     "shell.execute_reply.started": "2023-03-17T22:52:13.015340Z"
    },
    "papermill": {
     "duration": null,
     "end_time": null,
     "exception": null,
     "start_time": null,
     "status": "pending"
    },
    "tags": []
   },
   "outputs": [],
   "source": [
    "df.to_csv(\"file.csv\",index=None)"
   ]
  },
  {
   "cell_type": "code",
   "execution_count": null,
   "id": "f9b9af1d",
   "metadata": {
    "execution": {
     "iopub.execute_input": "2023-03-17T22:52:13.230574Z",
     "iopub.status.busy": "2023-03-17T22:52:13.229649Z",
     "iopub.status.idle": "2023-03-17T22:52:13.276105Z",
     "shell.execute_reply": "2023-03-17T22:52:13.274772Z",
     "shell.execute_reply.started": "2023-03-17T22:52:13.230546Z"
    },
    "papermill": {
     "duration": null,
     "end_time": null,
     "exception": null,
     "start_time": null,
     "status": "pending"
    },
    "tags": []
   },
   "outputs": [],
   "source": [
    "with open (\"file.txt\",\"w\") as f:\n",
    "    for i in comb:\n",
    "        f.write(i)\n",
    "        f.write(\"\\n\")"
   ]
  },
  {
   "cell_type": "code",
   "execution_count": null,
   "id": "0cf735b1",
   "metadata": {
    "execution": {
     "iopub.execute_input": "2023-03-17T22:52:14.078152Z",
     "iopub.status.busy": "2023-03-17T22:52:14.077788Z",
     "iopub.status.idle": "2023-03-17T22:52:14.324206Z",
     "shell.execute_reply": "2023-03-17T22:52:14.323154Z",
     "shell.execute_reply.started": "2023-03-17T22:52:14.078117Z"
    },
    "papermill": {
     "duration": null,
     "end_time": null,
     "exception": null,
     "start_time": null,
     "status": "pending"
    },
    "tags": []
   },
   "outputs": [],
   "source": [
    "df2 = pd.read_csv(\"/kaggle/working/file.csv\")"
   ]
  },
  {
   "cell_type": "code",
   "execution_count": null,
   "id": "8a43a702",
   "metadata": {
    "execution": {
     "iopub.execute_input": "2023-03-17T22:52:16.159463Z",
     "iopub.status.busy": "2023-03-17T22:52:16.159097Z",
     "iopub.status.idle": "2023-03-17T22:52:16.622424Z",
     "shell.execute_reply": "2023-03-17T22:52:16.621205Z",
     "shell.execute_reply.started": "2023-03-17T22:52:16.159433Z"
    },
    "papermill": {
     "duration": null,
     "end_time": null,
     "exception": null,
     "start_time": null,
     "status": "pending"
    },
    "tags": []
   },
   "outputs": [],
   "source": [
    "df2"
   ]
  },
  {
   "cell_type": "code",
   "execution_count": null,
   "id": "ac155614",
   "metadata": {
    "execution": {
     "iopub.execute_input": "2023-03-17T22:52:06.206463Z",
     "iopub.status.busy": "2023-03-17T22:52:06.206010Z",
     "iopub.status.idle": "2023-03-17T22:52:06.751015Z",
     "shell.execute_reply": "2023-03-17T22:52:06.750057Z",
     "shell.execute_reply.started": "2023-03-17T22:52:06.206423Z"
    },
    "papermill": {
     "duration": null,
     "end_time": null,
     "exception": null,
     "start_time": null,
     "status": "pending"
    },
    "tags": []
   },
   "outputs": [],
   "source": [
    "rm /kaggle/working/file.txt"
   ]
  },
  {
   "cell_type": "code",
   "execution_count": null,
   "id": "8b37ccac",
   "metadata": {
    "papermill": {
     "duration": null,
     "end_time": null,
     "exception": null,
     "start_time": null,
     "status": "pending"
    },
    "tags": []
   },
   "outputs": [],
   "source": []
  }
 ],
 "metadata": {
  "kernelspec": {
   "display_name": "Python 3",
   "language": "python",
   "name": "python3"
  },
  "language_info": {
   "codemirror_mode": {
    "name": "ipython",
    "version": 3
   },
   "file_extension": ".py",
   "mimetype": "text/x-python",
   "name": "python",
   "nbconvert_exporter": "python",
   "pygments_lexer": "ipython3",
   "version": "3.7.12"
  },
  "papermill": {
   "default_parameters": {},
   "duration": 38.493134,
   "end_time": "2023-03-17T22:56:03.392355",
   "environment_variables": {},
   "exception": true,
   "input_path": "__notebook__.ipynb",
   "output_path": "__notebook__.ipynb",
   "parameters": {},
   "start_time": "2023-03-17T22:55:24.899221",
   "version": "2.4.0"
  }
 },
 "nbformat": 4,
 "nbformat_minor": 5
}
